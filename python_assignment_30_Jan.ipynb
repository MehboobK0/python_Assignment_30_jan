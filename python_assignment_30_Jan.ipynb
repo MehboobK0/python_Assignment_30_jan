{
 "cells": [
  {
   "cell_type": "code",
   "execution_count": 10,
   "id": "1fe4cdb5",
   "metadata": {},
   "outputs": [
    {
     "name": "stdout",
     "output_type": "stream",
     "text": [
      "Enter the percentage: 56\n",
      "Grade: D\n"
     ]
    }
   ],
   "source": [
    "\n",
    "# Here are the solutions to the provided problems:\n",
    "\n",
    "# 1. Program to Display Grade based on Percentage:\n",
    "percentage = float(input(\"Enter the percentage: \"))\n",
    "\n",
    "if percentage > 90:\n",
    "    print(\"Grade: A\")\n",
    "elif percentage > 80:\n",
    "    print(\"Grade: B\")\n",
    "elif percentage >= 60:\n",
    "    print(\"Grade: C\")\n",
    "elif percentage < 60:\n",
    "    print(\"Grade: D\")\n"
   ]
  },
  {
   "cell_type": "code",
   "execution_count": 12,
   "id": "67b25536",
   "metadata": {},
   "outputs": [
    {
     "name": "stdout",
     "output_type": "stream",
     "text": [
      "Enter the cost price of the bike (in Rs): 40000\n",
      "Road tax to be paid: Rs 2000.0\n"
     ]
    }
   ],
   "source": [
    "#  Program to Display Road Tax based on Cost Price of Bike:\n",
    "cost_price = float(input(\"Enter the cost price of the bike (in Rs): \"))\n",
    "\n",
    "if cost_price > 100000:\n",
    "    road_tax = cost_price * 0.15\n",
    "elif cost_price > 50000:\n",
    "    road_tax = cost_price * 0.1\n",
    "else:\n",
    "    road_tax = cost_price * 0.05\n",
    "\n",
    "print(\"Road tax to be paid: Rs\", road_tax)\n"
   ]
  },
  {
   "cell_type": "code",
   "execution_count": 13,
   "id": "7210c3a8",
   "metadata": {},
   "outputs": [
    {
     "name": "stdout",
     "output_type": "stream",
     "text": [
      "Enter the city: Agra\n",
      "Monument: Taj Mahal\n"
     ]
    }
   ],
   "source": [
    "# Program to Display Monuments based on City:\n",
    "city = input(\"Enter the city: \")\n",
    "\n",
    "if city == \"Delhi\":\n",
    "    print(\"Monument: Red Fort\")\n",
    "elif city == \"Agra\":\n",
    "    print(\"Monument: Taj Mahal\")\n",
    "elif city == \"Jaipur\":\n",
    "    print(\"Monument: Jal Mahal\")\n",
    "else:\n",
    "    print(\"Monument not found for the entered city.\")\n"
   ]
  },
  {
   "cell_type": "code",
   "execution_count": 14,
   "id": "88055ad1",
   "metadata": {},
   "outputs": [
    {
     "name": "stdout",
     "output_type": "stream",
     "text": [
      "Enter a number: 6\n",
      "Number of times divisible by 3 before reaching 10 or less: 0\n"
     ]
    }
   ],
   "source": [
    "# 4. Count Division by 3:\n",
    "number = int(input(\"Enter a number: \"))\n",
    "count = 0\n",
    "\n",
    "while number > 10:\n",
    "    number /= 3\n",
    "    count += 1\n",
    "\n",
    "print(\"Number of times divisible by 3 before reaching 10 or less:\", count)\n"
   ]
  },
  {
   "cell_type": "code",
   "execution_count": 19,
   "id": "ef255802",
   "metadata": {},
   "outputs": [
    {
     "name": "stdout",
     "output_type": "stream",
     "text": [
      "1\n",
      "2\n",
      "3\n",
      "4\n",
      "5\n"
     ]
    }
   ],
   "source": [
    "# 5. Why and When to Use While Loop:\n",
    "# The while loop in Python is used when you want to repeatedly execute a block of statements as long as a condition is true. This is useful when you don't know beforehand how many times the loop needs to run.\n",
    "# Program to print numbers from 1 to 5 using while loop\n",
    "num = 1\n",
    "while num <= 5:\n",
    "    print(num)\n",
    "    num += 1\n"
   ]
  },
  {
   "cell_type": "code",
   "execution_count": 20,
   "id": "a6df2d24",
   "metadata": {},
   "outputs": [
    {
     "name": "stdout",
     "output_type": "stream",
     "text": [
      "* \n",
      "* * \n",
      "* * * \n",
      "* * * * \n",
      "* * * * * \n"
     ]
    }
   ],
   "source": [
    "# 6. Nested While Loop for Patterns:\n",
    "# Here are three patterns printed using nested while loops:\n",
    "# Pattern 1:\n",
    "rows = 5\n",
    "i = 0\n",
    "while i < rows:\n",
    "    j = 0\n",
    "    while j <= i:\n",
    "        print(\"*\", end=' ')\n",
    "        j += 1\n",
    "    print()\n",
    "    i += 1\n"
   ]
  },
  {
   "cell_type": "code",
   "execution_count": 21,
   "id": "9dcd184c",
   "metadata": {},
   "outputs": [
    {
     "name": "stdout",
     "output_type": "stream",
     "text": [
      "* * * * * \n",
      "* * * * \n",
      "* * * \n",
      "* * \n",
      "* \n"
     ]
    }
   ],
   "source": [
    "# Pattern 2:\n",
    "rows = 5\n",
    "i = rows\n",
    "while i >= 1:\n",
    "    j = 1\n",
    "    while j <= i:\n",
    "        print(\"*\", end=' ')\n",
    "        j += 1\n",
    "    print()\n",
    "    i -= 1\n"
   ]
  },
  {
   "cell_type": "code",
   "execution_count": 23,
   "id": "4c980ab7",
   "metadata": {},
   "outputs": [
    {
     "name": "stdout",
     "output_type": "stream",
     "text": [
      "        * \n",
      "      * * \n",
      "    * * * \n",
      "  * * * * \n",
      "* * * * * \n"
     ]
    }
   ],
   "source": [
    "# Pattern 3:\n",
    "rows = 5\n",
    "i = 0\n",
    "while i < rows:\n",
    "    j = 0\n",
    "    while j < rows-i-1:\n",
    "        print(\" \", end=' ')\n",
    "        j += 1\n",
    "    j = 0\n",
    "    while j <= i:\n",
    "        print(\"*\", end=' ')\n",
    "        j += 1\n",
    "    print()\n",
    "    i += 1\n",
    "\n"
   ]
  },
  {
   "cell_type": "code",
   "execution_count": 24,
   "id": "e51de1fc",
   "metadata": {},
   "outputs": [
    {
     "name": "stdout",
     "output_type": "stream",
     "text": [
      "10\n",
      "9\n",
      "8\n",
      "7\n",
      "6\n",
      "5\n",
      "4\n",
      "3\n",
      "2\n",
      "1\n"
     ]
    }
   ],
   "source": [
    "# 7. Reverse While Loop to Display Numbers from 10 to 1:\n",
    "\n",
    "num = 10\n",
    "while num >= 1:\n",
    "    print(num)\n",
    "    num -= 1"
   ]
  },
  {
   "cell_type": "code",
   "execution_count": 25,
   "id": "8224bf5b",
   "metadata": {},
   "outputs": [
    {
     "name": "stdout",
     "output_type": "stream",
     "text": [
      "10\n",
      "9\n",
      "8\n",
      "7\n",
      "6\n",
      "5\n",
      "4\n",
      "3\n",
      "2\n",
      "1\n"
     ]
    }
   ],
   "source": [
    "# 8. Reverse While Loop to Display Numbers from 10 to 1:\n",
    "\n",
    "num = 10\n",
    "while num >= 1:\n",
    "    print(num)\n",
    "    num -= 1"
   ]
  },
  {
   "cell_type": "code",
   "execution_count": null,
   "id": "5790c805",
   "metadata": {},
   "outputs": [],
   "source": []
  }
 ],
 "metadata": {
  "kernelspec": {
   "display_name": "Python 3 (ipykernel)",
   "language": "python",
   "name": "python3"
  },
  "language_info": {
   "codemirror_mode": {
    "name": "ipython",
    "version": 3
   },
   "file_extension": ".py",
   "mimetype": "text/x-python",
   "name": "python",
   "nbconvert_exporter": "python",
   "pygments_lexer": "ipython3",
   "version": "3.9.12"
  }
 },
 "nbformat": 4,
 "nbformat_minor": 5
}
